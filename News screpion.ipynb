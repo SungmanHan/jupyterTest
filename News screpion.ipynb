{
 "cells": [
  {
   "cell_type": "code",
   "execution_count": 3,
   "metadata": {},
   "outputs": [],
   "source": [
    "from bs4 import BeautifulSoup as bs\n",
    "from selenium import webdriver\n",
    "import pandas as pd\n",
    "from datetime import datetime as dt\n",
    "import os"
   ]
  },
  {
   "cell_type": "code",
   "execution_count": 4,
   "metadata": {},
   "outputs": [],
   "source": [
    "base_url = \"https://search.naver.com/search.naver?where=news&query=SearchText&oquery=SearchText&sm=tab_srt&sort=1&photo=0&field=0&reporter_article=&pd=4&ds=2019.11.15.10.22&de=2019.11.16.10.22&docid=&nso=so%3Add%2Cp%3A1d%2Ca%3Aall&mynews=0&refresh_start=0&related=0\"\n",
    "defaultSearch = [\"그리드원\",\"RPA\",\"사무 자동화\",\"업무 자동화\",\"uipath\",\"automation anywhere\"]\n",
    "#driver = webdriver.Chrome('/usr/local/bin/chromedriver')\n",
    "driver = webdriver.Chrome('C:/App/chromedriver_win32/chromedriver')\n",
    "todayNow = dt.today().strftime(\"%Y%m%d\")\n",
    "base_dir = os.path.dirname(os.path.realpath('__file__')).replace(\"jupyter_workspace\",\"scrap\")\n",
    "now_dir = base_dir+\"/\"+todayNow"
   ]
  },
  {
   "cell_type": "code",
   "execution_count": 5,
   "metadata": {},
   "outputs": [],
   "source": [
    "def FileCheck(file,arr):    \n",
    "    if os.path.isfile(file) == False :\n",
    "        data = pd.DataFrame({\"url\":arr})\n",
    "    else:\n",
    "        data = pd.read_csv(filePaht)\n",
    "        for temp in arr:\n",
    "            data.loc[len(data)] = temp\n",
    "            \n",
    "    data = data.drop_duplicates(['url'], keep='last')\n",
    "    data.to_csv(file, mode='w',index=False)"
   ]
  },
  {
   "cell_type": "code",
   "execution_count": 6,
   "metadata": {},
   "outputs": [],
   "source": [
    "def DirCheck(searchTarget):\n",
    "    if os.path.isdir(base_dir) == False: os.mkdir(base_dir)\n",
    "    \n",
    "    if os.path.isdir(now_dir) == False: os.mkdir(now_dir)\n",
    "    \n",
    "    return now_dir+\"/\"+searchTarget+\"_\"+todayNow+\".csv\""
   ]
  },
  {
   "cell_type": "code",
   "execution_count": 7,
   "metadata": {},
   "outputs": [],
   "source": [
    "def DefaultCrw(tempTarget):\n",
    "    newsLinkList = []\n",
    "    target = tempTarget\n",
    "    url = base_url.replace(\"SearchText\",target)\n",
    "    driver.get(url)\n",
    "    req = driver.page_source\n",
    "    soup = bs(req,\"html.parser\")\n",
    "    soup = soup.find_all(\"div\", attrs={\"class\": \"thumb\"})\n",
    "    for temp in soup:\n",
    "        newsLinkList.append(temp.find(\"a\")['href'])\n",
    "    \n",
    "    return target,newsLinkList"
   ]
  },
  {
   "cell_type": "code",
   "execution_count": 8,
   "metadata": {},
   "outputs": [],
   "source": [
    "def FileReadToDirAndArryData(path):\n",
    "    li = []\n",
    "    for root,dirs,files in os.walk(path):\n",
    "        for fname in files:\n",
    "            full_name = os.path.join(root,fname)\n",
    "            df = pd.read_csv(full_name, index_col=None, header=0)\n",
    "            li.append(df)\n",
    "            \n",
    "    frame = pd.concat(li, axis=0, ignore_index=False)\n",
    "    frame = frame.drop_duplicates(['url'], keep='last')\n",
    "    return frame"
   ]
  },
  {
   "cell_type": "code",
   "execution_count": null,
   "metadata": {},
   "outputs": [],
   "source": [
    "now_dir"
   ]
  },
  {
   "cell_type": "code",
   "execution_count": 9,
   "metadata": {},
   "outputs": [],
   "source": [
    "#uesrSendKeyword=\n",
    "for temp in defaultSearch:\n",
    "    target,arrList= DefaultCrw(temp)\n",
    "    filePaht = DirCheck(target)\n",
    "    FileCheck(filePaht,arrList)"
   ]
  },
  {
   "cell_type": "code",
   "execution_count": 10,
   "metadata": {},
   "outputs": [],
   "source": [
    "readCSVData = FileReadToDirAndArryData(now_dir)"
   ]
  },
  {
   "cell_type": "code",
   "execution_count": 11,
   "metadata": {},
   "outputs": [
    {
     "data": {
      "text/html": [
       "<div>\n",
       "<style scoped>\n",
       "    .dataframe tbody tr th:only-of-type {\n",
       "        vertical-align: middle;\n",
       "    }\n",
       "\n",
       "    .dataframe tbody tr th {\n",
       "        vertical-align: top;\n",
       "    }\n",
       "\n",
       "    .dataframe thead th {\n",
       "        text-align: right;\n",
       "    }\n",
       "</style>\n",
       "<table border=\"1\" class=\"dataframe\">\n",
       "  <thead>\n",
       "    <tr style=\"text-align: right;\">\n",
       "      <th></th>\n",
       "      <th>url</th>\n",
       "    </tr>\n",
       "  </thead>\n",
       "  <tbody>\n",
       "    <tr>\n",
       "      <th>9</th>\n",
       "      <td>http://yna.kr/AKR20191119051500003?did=1195m</td>\n",
       "    </tr>\n",
       "    <tr>\n",
       "      <th>3</th>\n",
       "      <td>http://news.heraldcorp.com/view.php?ud=2019111...</td>\n",
       "    </tr>\n",
       "    <tr>\n",
       "      <th>4</th>\n",
       "      <td>http://www.upkorea.net/news/articleView.html?i...</td>\n",
       "    </tr>\n",
       "    <tr>\n",
       "      <th>5</th>\n",
       "      <td>https://view.asiae.co.kr/article/2019111911220...</td>\n",
       "    </tr>\n",
       "    <tr>\n",
       "      <th>6</th>\n",
       "      <td>http://www.e2news.com/news/articleView.html?id...</td>\n",
       "    </tr>\n",
       "    <tr>\n",
       "      <th>7</th>\n",
       "      <td>http://www.etoday.co.kr/news/section/newsview....</td>\n",
       "    </tr>\n",
       "    <tr>\n",
       "      <th>8</th>\n",
       "      <td>http://www.newspim.com/news/view/20191119000433</td>\n",
       "    </tr>\n",
       "    <tr>\n",
       "      <th>9</th>\n",
       "      <td>http://www.asiatoday.co.kr/view.php?key=201911...</td>\n",
       "    </tr>\n",
       "    <tr>\n",
       "      <th>0</th>\n",
       "      <td>http://www.ekn.kr/news/article.html?no=464694</td>\n",
       "    </tr>\n",
       "    <tr>\n",
       "      <th>1</th>\n",
       "      <td>http://www.busan.com/view/busan/view.php?code=...</td>\n",
       "    </tr>\n",
       "    <tr>\n",
       "      <th>2</th>\n",
       "      <td>http://www.joseilbo.com/news/news_read.php?uid...</td>\n",
       "    </tr>\n",
       "    <tr>\n",
       "      <th>3</th>\n",
       "      <td>http://www.ciokorea.com/news/136822</td>\n",
       "    </tr>\n",
       "    <tr>\n",
       "      <th>4</th>\n",
       "      <td>http://www.yakup.com/news/index.html?mode=view...</td>\n",
       "    </tr>\n",
       "    <tr>\n",
       "      <th>5</th>\n",
       "      <td>http://www.medisobizanews.com/news/articleView...</td>\n",
       "    </tr>\n",
       "    <tr>\n",
       "      <th>6</th>\n",
       "      <td>http://www.industrynews.co.kr/news/articleView...</td>\n",
       "    </tr>\n",
       "    <tr>\n",
       "      <th>7</th>\n",
       "      <td>http://news.wowtv.co.kr/NewsCenter/News/Read?a...</td>\n",
       "    </tr>\n",
       "    <tr>\n",
       "      <th>8</th>\n",
       "      <td>http://www.inews24.com/view/1223231</td>\n",
       "    </tr>\n",
       "    <tr>\n",
       "      <th>9</th>\n",
       "      <td>http://www.kookje.co.kr/news2011/asp/newsbody....</td>\n",
       "    </tr>\n",
       "  </tbody>\n",
       "</table>\n",
       "</div>"
      ],
      "text/plain": [
       "                                                 url\n",
       "9       http://yna.kr/AKR20191119051500003?did=1195m\n",
       "3  http://news.heraldcorp.com/view.php?ud=2019111...\n",
       "4  http://www.upkorea.net/news/articleView.html?i...\n",
       "5  https://view.asiae.co.kr/article/2019111911220...\n",
       "6  http://www.e2news.com/news/articleView.html?id...\n",
       "7  http://www.etoday.co.kr/news/section/newsview....\n",
       "8    http://www.newspim.com/news/view/20191119000433\n",
       "9  http://www.asiatoday.co.kr/view.php?key=201911...\n",
       "0      http://www.ekn.kr/news/article.html?no=464694\n",
       "1  http://www.busan.com/view/busan/view.php?code=...\n",
       "2  http://www.joseilbo.com/news/news_read.php?uid...\n",
       "3                http://www.ciokorea.com/news/136822\n",
       "4  http://www.yakup.com/news/index.html?mode=view...\n",
       "5  http://www.medisobizanews.com/news/articleView...\n",
       "6  http://www.industrynews.co.kr/news/articleView...\n",
       "7  http://news.wowtv.co.kr/NewsCenter/News/Read?a...\n",
       "8                http://www.inews24.com/view/1223231\n",
       "9  http://www.kookje.co.kr/news2011/asp/newsbody...."
      ]
     },
     "execution_count": 11,
     "metadata": {},
     "output_type": "execute_result"
    }
   ],
   "source": [
    "readCSVData"
   ]
  },
  {
   "cell_type": "code",
   "execution_count": 12,
   "metadata": {},
   "outputs": [
    {
     "name": "stdout",
     "output_type": "stream",
     "text": [
      "http://yna.kr/AKR20191119051500003?did=1195m\n",
      "http://news.heraldcorp.com/view.php?ud=20191119000506\n",
      "http://www.upkorea.net/news/articleView.html?idxno=667977\n",
      "https://view.asiae.co.kr/article/2019111911220844244\n",
      "http://www.e2news.com/news/articleView.html?idxno=216723\n",
      "http://www.etoday.co.kr/news/section/newsview.php?idxno=1823953\n",
      "http://www.newspim.com/news/view/20191119000433\n",
      "http://www.asiatoday.co.kr/view.php?key=20191119010010766\n",
      "http://www.ekn.kr/news/article.html?no=464694\n",
      "http://www.busan.com/view/busan/view.php?code=2019111912173164493\n",
      "http://www.joseilbo.com/news/news_read.php?uid=387586&class=18&grp=\n",
      "http://www.ciokorea.com/news/136822\n",
      "http://www.yakup.com/news/index.html?mode=view&cat=12&nid=237572\n",
      "http://www.medisobizanews.com/news/articleView.html?idxno=64104\n",
      "http://www.industrynews.co.kr/news/articleView.html?idxno=35379\n",
      "http://news.wowtv.co.kr/NewsCenter/News/Read?articleId=A201911190236&t=NN\n",
      "http://www.inews24.com/view/1223231\n",
      "http://www.kookje.co.kr/news2011/asp/newsbody.asp?code=0200&key=20191119.99099007964\n"
     ]
    }
   ],
   "source": [
    "for idx, row in readCSVData.iterrows():\n",
    "    #driver.get(row['url'])\n",
    "    print(row['url'])"
   ]
  },
  {
   "cell_type": "code",
   "execution_count": null,
   "metadata": {},
   "outputs": [],
   "source": []
  }
 ],
 "metadata": {
  "kernelspec": {
   "display_name": "Python 3",
   "language": "python",
   "name": "python3"
  },
  "language_info": {
   "codemirror_mode": {
    "name": "ipython",
    "version": 3
   },
   "file_extension": ".py",
   "mimetype": "text/x-python",
   "name": "python",
   "nbconvert_exporter": "python",
   "pygments_lexer": "ipython3",
   "version": "3.7.5"
  }
 },
 "nbformat": 4,
 "nbformat_minor": 2
}
