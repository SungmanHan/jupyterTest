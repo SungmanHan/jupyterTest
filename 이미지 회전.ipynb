{
 "cells": [
  {
   "cell_type": "code",
   "execution_count": 1,
   "metadata": {},
   "outputs": [],
   "source": [
    "import numpy as np\n",
    "import cv2"
   ]
  },
  {
   "cell_type": "code",
   "execution_count": 2,
   "metadata": {},
   "outputs": [],
   "source": [
    "point_list = []\n",
    "count = 0"
   ]
  },
  {
   "cell_type": "code",
   "execution_count": 3,
   "metadata": {},
   "outputs": [],
   "source": [
    "def mouse_callback(event, x, y, flags, param):\n",
    "    global point_list, count, img_original\n",
    "    \n",
    "    # 마우스 외쪽 버튼 누를 때마다 좌표를 리스트에 저장\n",
    "    if event == cv2.EVENT_LBUTTONDOWN:\n",
    "        print(\"(%d, %d)\" % (x, y))\n",
    "        point_list.append((x, y))\n",
    "\n",
    "        print(point_list)\n",
    "        cv2.circle(img_original, (x, y), 3, (0, 0, 255), -1)"
   ]
  },
  {
   "cell_type": "code",
   "execution_count": 4,
   "metadata": {},
   "outputs": [],
   "source": [
    "cv2.namedWindow('original')\n",
    "cv2.setMouseCallback('original', mouse_callback)"
   ]
  },
  {
   "cell_type": "code",
   "execution_count": 5,
   "metadata": {},
   "outputs": [],
   "source": [
    "img_original = cv2.imread(\"image2.jpeg\",cv2.IMREAD_COLOR)"
   ]
  },
  {
   "cell_type": "code",
   "execution_count": null,
   "metadata": {},
   "outputs": [
    {
     "name": "stdout",
     "output_type": "stream",
     "text": [
      "(52, 174)\n",
      "[(52, 174)]\n",
      "(559, 60)\n",
      "[(52, 174), (559, 60)]\n",
      "(119, 503)\n",
      "[(52, 174), (559, 60), (119, 503)]\n",
      "(648, 371)\n",
      "[(52, 174), (559, 60), (119, 503), (648, 371)]\n"
     ]
    }
   ],
   "source": [
    "while(True):\n",
    "\n",
    "    cv2.imshow(\"original\", img_original)\n",
    "\n",
    "\n",
    "    height, weight = img_original.shape[:2]\n",
    "\n",
    "\n",
    "    if cv2.waitKey(1)&0xFF == 32: # spacebar를 누르면 루프에서 빠져나옵니다.\n",
    "        break\n",
    "        \n",
    "\n",
    "# 좌표 순서 - 상단왼쪽 끝, 상단오른쪽 끝, 하단왼쪽 끝, 하단오른쪽 끝\n",
    "pts1 = np.float32([list(point_list[0]),list(point_list[1]),list(point_list[2]),list(point_list[3])])\n",
    "pts2 = np.float32([[0,0],[weight,0],[0,height],[weight,height]])\n",
    "\n",
    "#print(pts1)\n",
    "#print(pts2)\n",
    "\n",
    "M = cv2.getPerspectiveTransform(pts1,pts2)\n",
    "\n",
    "img_result = cv2.warpPerspective(img_original, M, (weight,height))\n",
    "\n",
    "\n",
    "cv2.imshow(\"result1\", img_result)\n",
    "cv2.waitKey(0)\n",
    "cv2.destroyAllWindows()\n"
   ]
  },
  {
   "cell_type": "code",
   "execution_count": null,
   "metadata": {},
   "outputs": [],
   "source": []
  },
  {
   "cell_type": "code",
   "execution_count": null,
   "metadata": {},
   "outputs": [],
   "source": []
  }
 ],
 "metadata": {
  "kernelspec": {
   "display_name": "Python 3",
   "language": "python",
   "name": "python3"
  },
  "language_info": {
   "codemirror_mode": {
    "name": "ipython",
    "version": 3
   },
   "file_extension": ".py",
   "mimetype": "text/x-python",
   "name": "python",
   "nbconvert_exporter": "python",
   "pygments_lexer": "ipython3",
   "version": "3.7.3"
  }
 },
 "nbformat": 4,
 "nbformat_minor": 2
}
