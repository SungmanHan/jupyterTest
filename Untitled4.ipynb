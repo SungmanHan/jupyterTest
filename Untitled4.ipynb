{
 "cells": [
  {
   "cell_type": "code",
   "execution_count": 1,
   "metadata": {},
   "outputs": [],
   "source": [
    "import cv2\n",
    "import numpy as np"
   ]
  },
  {
   "cell_type": "code",
   "execution_count": 2,
   "metadata": {},
   "outputs": [],
   "source": [
    "img = cv2.imread(\"image2.jpeg\",cv2.IMREAD_COLOR)\n",
    "imgray = cv2.cvtColor(img, cv2.COLOR_BGR2GRAY)\n"
   ]
  },
  {
   "cell_type": "code",
   "execution_count": 4,
   "metadata": {},
   "outputs": [
    {
     "name": "stdout",
     "output_type": "stream",
     "text": [
      "{'m00': 1.0, 'm10': 676.5, 'm01': 556.5, 'm20': 457652.3333333333, 'm11': 376472.25, 'm02': 309692.3333333333, 'm30': 309601916.25, 'm21': 254683523.5, 'm12': 209506863.5, 'm03': 172343876.25, 'mu20': 0.08333333331393078, 'mu11': 0.0, 'mu02': 0.08333333331393078, 'mu30': 5.960464477539063e-08, 'mu21': 1.0797521099448204e-08, 'mu12': 1.31258275359869e-08, 'mu03': 2.9802322387695312e-08, 'nu20': 0.08333333331393078, 'nu11': 0.0, 'nu02': 0.08333333331393078, 'nu30': 5.960464477539063e-08, 'nu21': 1.0797521099448204e-08, 'nu12': 1.31258275359869e-08, 'nu03': 2.9802322387695312e-08}\n"
     ]
    }
   ],
   "source": [
    "blurg = cv2.GaussianBlur(imgray,(5,5),0)\n",
    "#edge = cv2.Canny(blurg,100,200,apertureSize=3)\n",
    "\n",
    "ret ,thr1 = cv2.threshold(blurg, 127, 255, cv2.THRESH_BINARY)\n",
    "\n",
    "contours, hierarchy = cv2.findContours(thr1, cv2.RETR_TREE, cv2.CHAIN_APPROX_SIMPLE)\n",
    "\n",
    "cnt = contours[0]\n",
    "M = cv2.moments(cnt)\n",
    "print(M)\n",
    "#epsilon1 = cv2.arcLength(cnt, True) * 0.1\n",
    "#approx1 = cv2.approxPolyDP(cnt, epsilon1, True)\n"
   ]
  },
  {
   "cell_type": "code",
   "execution_count": 4,
   "metadata": {},
   "outputs": [
    {
     "name": "stdout",
     "output_type": "stream",
     "text": [
      "676 556 2 2\n"
     ]
    }
   ],
   "source": [
    "\n",
    "x,y,w,h = cv2.boundingRect(cnt)\n",
    "print(x,y,w,h)"
   ]
  },
  {
   "cell_type": "code",
   "execution_count": 5,
   "metadata": {},
   "outputs": [],
   "source": [
    "rect = cv2.minAreaRect(cnt)\n",
    "box = cv2.boxPoints(rect)\n",
    "box = np.int0(box)\n",
    "img = cv2.drawContours(img,[box],0,(0,0,255),2)"
   ]
  },
  {
   "cell_type": "code",
   "execution_count": null,
   "metadata": {},
   "outputs": [],
   "source": [
    "#img = cv2.rectangle(img,(x,y),(x+w,y+h),(0,0,255),2)\n",
    " \n",
    "cv2.imshow('img', img)\n",
    "cv2.waitKey()\n",
    "cv2.destroyAllWindows()"
   ]
  },
  {
   "cell_type": "code",
   "execution_count": null,
   "metadata": {},
   "outputs": [],
   "source": [
    "area = cv2.contourArea(cnt)\n",
    "perimeter = cv2.arcLength(cnt,True)\n",
    "epsilon = 0.1*cv2.arcLength(cnt,True)\n",
    "approx = cv2.approxPolyDP(cnt,epsilon,True)"
   ]
  },
  {
   "cell_type": "code",
   "execution_count": 4,
   "metadata": {},
   "outputs": [],
   "source": [
    "\n",
    "cv2.drawContours(img, [approx1], -1, (255, 0, 0), 2)\n",
    "cv2.imshow('nene', img)"
   ]
  },
  {
   "cell_type": "code",
   "execution_count": null,
   "metadata": {},
   "outputs": [],
   "source": []
  }
 ],
 "metadata": {
  "kernelspec": {
   "display_name": "Python 3",
   "language": "python",
   "name": "python3"
  },
  "language_info": {
   "codemirror_mode": {
    "name": "ipython",
    "version": 3
   },
   "file_extension": ".py",
   "mimetype": "text/x-python",
   "name": "python",
   "nbconvert_exporter": "python",
   "pygments_lexer": "ipython3",
   "version": "3.7.3"
  }
 },
 "nbformat": 4,
 "nbformat_minor": 2
}
