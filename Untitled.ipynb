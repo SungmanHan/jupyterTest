{
 "cells": [
  {
   "cell_type": "code",
   "execution_count": 397,
   "metadata": {},
   "outputs": [],
   "source": [
    "import numpy as np\n",
    "import pandas as pd\n",
    "import matplotlib.pyplot as plt"
   ]
  },
  {
   "cell_type": "code",
   "execution_count": 398,
   "metadata": {},
   "outputs": [],
   "source": [
    "old_data = pd.read_csv(\"C:\\\\Users\\\\gridone\\\\Desktop\\\\차량 정보\\\\201901_50000km_SUV.csv\", \n",
    "                       sep='\\t', \n",
    "                       lineterminator='\\r',\n",
    "                       names=[\"type\", \"info\", \"price\", \"service\"],\n",
    "                       na_values=\" NaN\")\n",
    "new_data = pd.DataFrame(columns=[\"vBrand\",\"vCarTpye\",\"vYear\",\"vDistanceDriven\",\"vFuel\",\"vPrice\"])"
   ]
  },
  {
   "cell_type": "code",
   "execution_count": 399,
   "metadata": {},
   "outputs": [],
   "source": [
    "def dataSplit(stringTemp):\n",
    "    vData = stringTemp\n",
    "    vCarTpye = \"\"\n",
    "    vBrand = \"\"\n",
    "    vYear = \"\"\n",
    "    vDistanceDriven = \"\"\n",
    "    vFuel = \"\"\n",
    "    \n",
    "    vCarTypeIdexS = 0;\n",
    "    vCarTypeIdexE = vData.find(\"19/\");\n",
    "    \n",
    "    # 브랜드\n",
    "    if vData.find(\"쉐보레\") > -1 or vData.find(\"GM대우\") > -1 :\n",
    "        vBrand = 1\n",
    "        vCarTypeIdexS = vData.find(\"GM대우\") + 5\n",
    "    elif vData.find(\"기아\") > -1 :\n",
    "        vBrand = 2\n",
    "        vCarTypeIdexS = vData.find(\"기아\") + 2\n",
    "    elif temp.find(\"삼성\") > -1 :\n",
    "        vBrand = 3\n",
    "        vCarTypeIdexS = vData.find(\"르노삼성\") + 4\n",
    "    elif temp.find(\"현대\") > -1 :\n",
    "        vBrand = 4\n",
    "        vCarTypeIdexS = vData.find(\"현대\") + 2\n",
    "    elif temp.find(\"쌍용\") > -1 :\n",
    "        vBrand = 5\n",
    "        vCarTypeIdexS = vData.find(\"쌍용\") + 2\n",
    "    \n",
    "        \n",
    "    # 차종\n",
    "    vCarTpye = vData[vCarTypeIdexS:vCarTypeIdexE]\n",
    "    \n",
    "    # 연식\n",
    "    vYear = vData[vCarTypeIdexE:vCarTypeIdexE+5]\n",
    "    \n",
    "    # 주행 거리\n",
    "    vDistanceDriven = vData[vCarTypeIdexE+6:vData.find('km')]\n",
    "    vDistanceDriven = vDistanceDriven.replace(\",\",\"\")\n",
    "    if vDistanceDriven.find(\"년형)\") > -1 :\n",
    "        vDistanceDriven = vDistanceDriven.split(')')[1]\n",
    "    \n",
    "    # 연료\n",
    "    vTemp = vData[vData.find(\"km\")+2:]\n",
    "    if vTemp.find(\"디젤\") > -1 :\n",
    "        vFuel = 1\n",
    "    elif vTemp.find(\"가솔린\") > -1 :\n",
    "        vFuel = 2\n",
    "    elif vTemp.find(\"LPG\") > -1 or vTemp.find(\"lpg\") > -1 :\n",
    "        vFuel = 3\n",
    "    elif vTemp.find(\"전기\") > -1 :\n",
    "        vFuel = 4\n",
    "    else:\n",
    "        vFuel = vTemp\n",
    "    \n",
    "    return vBrand,vCarTpye,vYear,int(vDistanceDriven),int(vFuel),0"
   ]
  },
  {
   "cell_type": "code",
   "execution_count": 400,
   "metadata": {},
   "outputs": [],
   "source": [
    "for temp in old_data['info']:\n",
    "    if type(temp) is str :\n",
    "        new_data = new_data.append(pd.Series(dataSplit(temp), index=new_data.columns ), ignore_index=True)"
   ]
  },
  {
   "cell_type": "code",
   "execution_count": 401,
   "metadata": {},
   "outputs": [],
   "source": [
    "Row = 0\n",
    "for temp in old_data['price']:\n",
    "    if type(temp) is str :\n",
    "        vTempPrice = temp.replace(\",\",\"\")\n",
    "        vTempPrice = vTempPrice.replace(\"만원\",\"\")\n",
    "        new_data.loc[Row,'vPrice'] = int(vTempPrice) \n",
    "        Row += 1"
   ]
  },
  {
   "cell_type": "code",
   "execution_count": 435,
   "metadata": {},
   "outputs": [
    {
     "name": "stdout",
     "output_type": "stream",
     "text": [
      "<class 'pandas.core.frame.DataFrame'>\n"
     ]
    }
   ],
   "source": [
    "work_data = pd.merge(new_data['vBrand'],new_data['vYear'],left_on='vBrand',right_index=True)\n",
    "work_data = pd.merge(work_data,new_data['vDistanceDriven'],left_on='vBrand',right_index=True)\n",
    "work_data = pd.merge(work_data,new_data['vFuel'],left_on='vBrand',right_index=True)\n",
    "work_data = pd.merge(work_data,new_data['vPrice'],left_on='vBrand',right_index=True)"
   ]
  },
  {
   "cell_type": "code",
   "execution_count": 428,
   "metadata": {},
   "outputs": [
    {
     "name": "stdout",
     "output_type": "stream",
     "text": [
      "<class 'pandas.core.frame.DataFrame'>\n",
      "Int64Index: 191 entries, 0 to 185\n",
      "Data columns (total 5 columns):\n",
      "vBrand             191 non-null object\n",
      "vYear              191 non-null object\n",
      "vDistanceDriven    191 non-null object\n",
      "vFuel              191 non-null object\n",
      "vPrice             191 non-null object\n",
      "dtypes: object(5)\n",
      "memory usage: 14.0+ KB\n"
     ]
    }
   ],
   "source": [
    "work_data.info()"
   ]
  },
  {
   "cell_type": "code",
   "execution_count": 479,
   "metadata": {},
   "outputs": [
    {
     "data": {
      "text/html": [
       "<div>\n",
       "<style scoped>\n",
       "    .dataframe tbody tr th:only-of-type {\n",
       "        vertical-align: middle;\n",
       "    }\n",
       "\n",
       "    .dataframe tbody tr th {\n",
       "        vertical-align: top;\n",
       "    }\n",
       "\n",
       "    .dataframe thead th {\n",
       "        text-align: right;\n",
       "    }\n",
       "</style>\n",
       "<table border=\"1\" class=\"dataframe\">\n",
       "  <thead>\n",
       "    <tr style=\"text-align: right;\">\n",
       "      <th></th>\n",
       "      <th>vBrand</th>\n",
       "      <th>vYear</th>\n",
       "      <th>vDistanceDriven</th>\n",
       "      <th>vFuel</th>\n",
       "      <th>vPrice</th>\n",
       "    </tr>\n",
       "  </thead>\n",
       "  <tbody>\n",
       "    <tr>\n",
       "      <th>count</th>\n",
       "      <td>191</td>\n",
       "      <td>191</td>\n",
       "      <td>191</td>\n",
       "      <td>191</td>\n",
       "      <td>191</td>\n",
       "    </tr>\n",
       "    <tr>\n",
       "      <th>unique</th>\n",
       "      <td>5</td>\n",
       "      <td>4</td>\n",
       "      <td>5</td>\n",
       "      <td>2</td>\n",
       "      <td>4</td>\n",
       "    </tr>\n",
       "    <tr>\n",
       "      <th>top</th>\n",
       "      <td>4</td>\n",
       "      <td>19/09</td>\n",
       "      <td>5958</td>\n",
       "      <td>1</td>\n",
       "      <td>1850</td>\n",
       "    </tr>\n",
       "    <tr>\n",
       "      <th>freq</th>\n",
       "      <td>70</td>\n",
       "      <td>80</td>\n",
       "      <td>70</td>\n",
       "      <td>102</td>\n",
       "      <td>70</td>\n",
       "    </tr>\n",
       "  </tbody>\n",
       "</table>\n",
       "</div>"
      ],
      "text/plain": [
       "        vBrand  vYear  vDistanceDriven  vFuel  vPrice\n",
       "count      191    191              191    191     191\n",
       "unique       5      4                5      2       4\n",
       "top          4  19/09             5958      1    1850\n",
       "freq        70     80               70    102      70"
      ]
     },
     "execution_count": 479,
     "metadata": {},
     "output_type": "execute_result"
    }
   ],
   "source": [
    "work_data.describe(include='all')"
   ]
  },
  {
   "cell_type": "code",
   "execution_count": 469,
   "metadata": {},
   "outputs": [
    {
     "data": {
      "image/png": "[encoded data removed]",
      "text/plain": [
       "<Figure size 720x720 with 1 Axes>"
      ]
     },
     "metadata": {
      "needs_background": "light"
     },
     "output_type": "display_data"
    }
   ],
   "source": [
    "plt.figure(figsize=(10,10))\n",
    "plt.title('vBrand and vPrice')\n",
    "plt.xlabel('vBrand')\n",
    "plt.ylabel('vPrice')\n",
    "# 막대 그래프(x, y)\n",
    "plt.bar(work_data['vBrand'], work_data['vPrice'])\n",
    "# 그래프 출력 plt.show()\n",
    "vImg1 = \"C:\\\\Users\\\\gridone\\\\Desktop\\\\분석보고서\\\\image\\\\X_vBrand_Y_vPrice.png\"\n",
    "plt.savefig(vImg1)"
   ]
  },
  {
   "cell_type": "code",
   "execution_count": 470,
   "metadata": {},
   "outputs": [
    {
     "data": {
      "image/png": "[encoded data removed]",
      "text/plain": [
       "<Figure size 720x720 with 1 Axes>"
      ]
     },
     "metadata": {
      "needs_background": "light"
     },
     "output_type": "display_data"
    }
   ],
   "source": [
    "plt.figure(figsize=(10,10))\n",
    "plt.title('vYear and vPrice')\n",
    "plt.xlabel('vYear')\n",
    "plt.ylabel('vPrice')\n",
    "# 막대 그래프(x, y)\n",
    "plt.bar(work_data['vYear'], work_data['vPrice'])\n",
    "# 그래프 출력 plt.show()\n",
    "vImg2 = \"C:\\\\Users\\\\gridone\\\\Desktop\\\\분석보고서\\\\image\\\\X_vYear_Y_vPrice.png\"\n",
    "plt.savefig(vImg1)"
   ]
  },
  {
   "cell_type": "code",
   "execution_count": 471,
   "metadata": {},
   "outputs": [
    {
     "data": {
      "image/png": "[encoded data removed]",
      "text/plain": [
       "<Figure size 720x720 with 1 Axes>"
      ]
     },
     "metadata": {
      "needs_background": "light"
     },
     "output_type": "display_data"
    }
   ],
   "source": [
    "plt.figure(figsize=(10,10))\n",
    "plt.title('vFuel And vPrice')\n",
    "plt.xlabel('vFuel')\n",
    "plt.ylabel('vPrice')\n",
    "# 막대 그래프(x, y)\n",
    "plt.bar(work_data['vFuel'], work_data['vPrice'])\n",
    "# 그래프 출력 plt.show()\n",
    "vImg3 = \"C:\\\\Users\\\\gridone\\\\Desktop\\\\분석보고서\\\\image\\\\X_vFuel_Y_vPrice.png\"\n",
    "plt.savefig(vImg1)"
   ]
  },
  {
   "cell_type": "code",
   "execution_count": 484,
   "metadata": {},
   "outputs": [
    {
     "data": {
      "text/html": [
       "<div>\n",
       "<style scoped>\n",
       "    .dataframe tbody tr th:only-of-type {\n",
       "        vertical-align: middle;\n",
       "    }\n",
       "\n",
       "    .dataframe tbody tr th {\n",
       "        vertical-align: top;\n",
       "    }\n",
       "\n",
       "    .dataframe thead th {\n",
       "        text-align: right;\n",
       "    }\n",
       "</style>\n",
       "<table border=\"1\" class=\"dataframe\">\n",
       "  <thead>\n",
       "    <tr style=\"text-align: right;\">\n",
       "      <th></th>\n",
       "      <th>vBrand</th>\n",
       "      <th>vYear</th>\n",
       "      <th>vDistanceDriven</th>\n",
       "      <th>vFuel</th>\n",
       "      <th>vPrice</th>\n",
       "    </tr>\n",
       "  </thead>\n",
       "  <tbody>\n",
       "    <tr>\n",
       "      <th>count</th>\n",
       "      <td>191</td>\n",
       "      <td>191</td>\n",
       "      <td>191</td>\n",
       "      <td>191</td>\n",
       "      <td>191</td>\n",
       "    </tr>\n",
       "    <tr>\n",
       "      <th>unique</th>\n",
       "      <td>5</td>\n",
       "      <td>4</td>\n",
       "      <td>5</td>\n",
       "      <td>2</td>\n",
       "      <td>4</td>\n",
       "    </tr>\n",
       "    <tr>\n",
       "      <th>top</th>\n",
       "      <td>4</td>\n",
       "      <td>19/09</td>\n",
       "      <td>5958</td>\n",
       "      <td>1</td>\n",
       "      <td>1850</td>\n",
       "    </tr>\n",
       "    <tr>\n",
       "      <th>freq</th>\n",
       "      <td>70</td>\n",
       "      <td>80</td>\n",
       "      <td>70</td>\n",
       "      <td>102</td>\n",
       "      <td>70</td>\n",
       "    </tr>\n",
       "  </tbody>\n",
       "</table>\n",
       "</div>"
      ],
      "text/plain": [
       "        vBrand  vYear  vDistanceDriven  vFuel  vPrice\n",
       "count      191    191              191    191     191\n",
       "unique       5      4                5      2       4\n",
       "top          4  19/09             5958      1    1850\n",
       "freq        70     80               70    102      70"
      ]
     },
     "execution_count": 484,
     "metadata": {},
     "output_type": "execute_result"
    }
   ],
   "source": [
    "import io\n",
    "\n",
    "#buf = io.StringIO()\n",
    "#work_data.info(buf=buf)\n",
    "#s = buf.getvalue().Int64Index\n",
    "\n",
    "#print(s)\n",
    "\n",
    "work_data.describe(include='all')"
   ]
  },
  {
   "cell_type": "code",
   "execution_count": 512,
   "metadata": {},
   "outputs": [],
   "source": [
    "from reportlab.lib.styles import getSampleStyleSheet, ParagraphStyle \n",
    "from reportlab.lib.pagesizes import A4 \n",
    "from reportlab.platypus import Paragraph, SimpleDocTemplate \n",
    "from reportlab.pdfbase import pdfmetrics \n",
    "from reportlab.pdfbase.ttfonts import TTFont\n",
    "\n",
    "c = canvas.Canvas('C:\\\\Users\\\\gridone\\\\Desktop\\\\분석보고서\\\\ex.pdf')\n",
    "c.setFont('Helvetica', 16)\n",
    "c.drawString(220,800,\"Vehicle analysis report\")\n",
    "\n",
    "c.drawString(0,780,\"-\"*180)\n",
    "c.drawImage(vImg1,0,550,200,200)\n",
    "c.drawImage(vImg2,200,550,200,200)\n",
    "c.drawImage(vImg3,400,550,200,200)\n",
    "\n",
    "c.drawString(150,400,\"Top Brand : Hyundai Motor\")\n",
    "c.drawString(150,300,\"Top vFuel : Gasoline\")\n",
    "c.drawString(150,200,\"Top vPrice : 18,500,000 Won\")\n",
    "\n",
    "c.showPage()\n",
    "c.save()"
   ]
  }
 ],
 "metadata": {
  "kernelspec": {
   "display_name": "Python 3",
   "language": "python",
   "name": "python3"
  },
  "language_info": {
   "codemirror_mode": {
    "name": "ipython",
    "version": 3
   },
   "file_extension": ".py",
   "mimetype": "text/x-python",
   "name": "python",
   "nbconvert_exporter": "python",
   "pygments_lexer": "ipython3",
   "version": "3.7.5"
  }
 },
 "nbformat": 4,
 "nbformat_minor": 2
}
