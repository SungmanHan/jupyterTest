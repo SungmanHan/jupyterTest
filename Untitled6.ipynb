{
 "cells": [
  {
   "cell_type": "code",
   "execution_count": 1,
   "metadata": {},
   "outputs": [],
   "source": [
    "import numpy as np\n",
    "import cv2\n",
    "from matplotlib import pyplot as plt\n",
    "imgPath = (\"C:\\\\Users\\\\gridone\\\\Desktop\\\\KakaoTalk_20191102_161240714.jpg\")"
   ]
  },
  {
   "cell_type": "code",
   "execution_count": 2,
   "metadata": {},
   "outputs": [],
   "source": [
    "img = cv2.imread(imgPath,cv2.IMREAD_COLOR)\n",
    "imgray = cv2.cvtColor(img, cv2.COLOR_BGR2GRAY)"
   ]
  },
  {
   "cell_type": "code",
   "execution_count": 3,
   "metadata": {},
   "outputs": [],
   "source": [
    "ret,thresh = cv2.threshold(imgray,127,255,0)\n",
    "contours, hierarchy = cv2.findContours(thresh,cv2.RETR_TREE,cv2.CHAIN_APPROX_SIMPLE)\n",
    " \n",
    "#print(contours)"
   ]
  },
  {
   "cell_type": "code",
   "execution_count": 4,
   "metadata": {},
   "outputs": [
    {
     "name": "stdout",
     "output_type": "stream",
     "text": [
      "6730\n"
     ]
    }
   ],
   "source": [
    "cont = 0\n",
    "for e in contours:\n",
    "    cont = cont + 1\n",
    "    \n",
    "print(cont)"
   ]
  },
  {
   "cell_type": "code",
   "execution_count": null,
   "metadata": {},
   "outputs": [],
   "source": [
    "cont = cont - 1\n",
    "\n",
    "while (cont != 0):\n",
    "    cont = cont - 1\n",
    "    if(cont % 10 == 0):\n",
    "        cnt = contours[cont]\n",
    "        imgCp = cv2.drawContours(img.copy(), [cnt], 0, (0,0,255), 3)\n",
    "        cv2.imshow('img',img)\n",
    "        cv2.imshow('imgray',imgray)\n",
    "        cv2.imshow('imgCp',imgCp)\n",
    "        cv2.waitKey(0)\n",
    "        cv2.destroyAllWindows()"
   ]
  },
  {
   "cell_type": "code",
   "execution_count": 109,
   "metadata": {},
   "outputs": [],
   "source": [
    "cnt = contours[-1]\n",
    "imgCp = cv2.drawContours(img.copy(), contours, -1, (0,0,255), 3)"
   ]
  },
  {
   "cell_type": "code",
   "execution_count": 110,
   "metadata": {},
   "outputs": [],
   "source": [
    "cv2.imshow('img',img)\n",
    "cv2.imshow('imgray',imgray)\n",
    "cv2.imshow('imgCp',imgCp)\n",
    "\n",
    "cv2.waitKey(0)\n",
    "cv2.destroyAllWindows()"
   ]
  },
  {
   "cell_type": "code",
   "execution_count": null,
   "metadata": {},
   "outputs": [],
   "source": []
  }
 ],
 "metadata": {
  "kernelspec": {
   "display_name": "Python 3",
   "language": "python",
   "name": "python3"
  },
  "language_info": {
   "codemirror_mode": {
    "name": "ipython",
    "version": 3
   },
   "file_extension": ".py",
   "mimetype": "text/x-python",
   "name": "python",
   "nbconvert_exporter": "python",
   "pygments_lexer": "ipython3",
   "version": "3.7.5"
  }
 },
 "nbformat": 4,
 "nbformat_minor": 2
}
