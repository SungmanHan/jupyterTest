{
 "cells": [
  {
   "cell_type": "code",
   "execution_count": 10,
   "metadata": {},
   "outputs": [],
   "source": [
    "import numpy as np\n",
    "import cv2\n",
    "from matplotlib import pyplot as plt"
   ]
  },
  {
   "cell_type": "code",
   "execution_count": 11,
   "metadata": {},
   "outputs": [],
   "source": [
    "imgPath = (\"C:\\\\Users\\\\gridone\\\\Desktop\\\\KakaoTalk_20191102_161240714.jpg\")"
   ]
  },
  {
   "cell_type": "code",
   "execution_count": 12,
   "metadata": {},
   "outputs": [
    {
     "name": "stdout",
     "output_type": "stream",
     "text": [
      "28 57 621 448\n"
     ]
    },
    {
     "ename": "error",
     "evalue": "OpenCV(4.1.1) C:/projects/opencv-python/opencv/modules/highgui/src/precomp.hpp:131: error: (-215:Assertion failed) src_depth != CV_16F && src_depth != CV_32S in function 'convertToShow'\n",
     "output_type": "error",
     "traceback": [
      "\u001b[1;31m---------------------------------------------------------------------------\u001b[0m",
      "\u001b[1;31merror\u001b[0m                                     Traceback (most recent call last)",
      "\u001b[1;32m<ipython-input-12-e36225bd32e8>\u001b[0m in \u001b[0;36m<module>\u001b[1;34m\u001b[0m\n\u001b[0;32m     57\u001b[0m \u001b[0mimg_trim\u001b[0m \u001b[1;33m=\u001b[0m \u001b[0mimg\u001b[0m\u001b[1;33m[\u001b[0m\u001b[0my\u001b[0m\u001b[1;33m:\u001b[0m\u001b[0my\u001b[0m \u001b[1;33m+\u001b[0m \u001b[0mh\u001b[0m\u001b[1;33m,\u001b[0m \u001b[0mx\u001b[0m\u001b[1;33m:\u001b[0m\u001b[0mx\u001b[0m \u001b[1;33m+\u001b[0m \u001b[0mw\u001b[0m\u001b[1;33m]\u001b[0m\u001b[1;33m\u001b[0m\u001b[1;33m\u001b[0m\u001b[0m\n\u001b[0;32m     58\u001b[0m \u001b[1;33m\u001b[0m\u001b[0m\n\u001b[1;32m---> 59\u001b[1;33m \u001b[0mcv\u001b[0m\u001b[1;33m.\u001b[0m\u001b[0mimshow\u001b[0m\u001b[1;33m(\u001b[0m\u001b[1;34m'img_trim'\u001b[0m\u001b[1;33m,\u001b[0m\u001b[0mimg_trim\u001b[0m\u001b[1;33m)\u001b[0m\u001b[1;33m\u001b[0m\u001b[1;33m\u001b[0m\u001b[0m\n\u001b[0m\u001b[0;32m     60\u001b[0m \u001b[0mcv\u001b[0m\u001b[1;33m.\u001b[0m\u001b[0mimshow\u001b[0m\u001b[1;33m(\u001b[0m\u001b[1;34m'img'\u001b[0m\u001b[1;33m,\u001b[0m\u001b[0mimg\u001b[0m\u001b[1;33m)\u001b[0m\u001b[1;33m\u001b[0m\u001b[1;33m\u001b[0m\u001b[0m\n\u001b[0;32m     61\u001b[0m \u001b[1;33m\u001b[0m\u001b[0m\n",
      "\u001b[1;31merror\u001b[0m: OpenCV(4.1.1) C:/projects/opencv-python/opencv/modules/highgui/src/precomp.hpp:131: error: (-215:Assertion failed) src_depth != CV_16F && src_depth != CV_32S in function 'convertToShow'\n"
     ]
    }
   ],
   "source": [
    "#imgPath = image_warp(pathArg)\n",
    "#imgPath = pathArg\n",
    "#rImgPath = rename(imgPath)\n",
    "\n",
    "img = cv2.imread(imgPath,cv2.IMREAD_COLOR)\n",
    "\n",
    "kernel_sharpen_3 = np.array([[-1, -1, -1, -1, -1], [-1, 2, 2, 2, -1], [-1, 2, 8, 2, -1], [-1, 2, 2, 2, -1],\n",
    "                             [-1, -1, -1, -1, -1]]) / 8.0\n",
    "img = cv2.filter2D(img, -1, kernel_sharpen_3)\n",
    "\n",
    "img = img + (-32,-32,-32)\n",
    "image_gray = cv2.imread(imgPath, cv2.IMREAD_GRAYSCALE)\n",
    "\n",
    "b, g, r = cv2.split(img)\n",
    "img2 = cv2.merge([r, g, b])\n",
    "\n",
    "blur = cv2.GaussianBlur(image_gray, ksize=(5,5), sigmaX=4)\n",
    "ret, thresh1 = cv2.threshold(blur, 127, 255, cv2.THRESH_BINARY)\n",
    "\n",
    "edged = cv2.Canny(blur, 10, 200,apertureSize=3)\n",
    "\n",
    "kernel = cv2.getStructuringElement(cv2.MORPH_RECT, (7, 7))\n",
    "closed = cv2.morphologyEx(edged, cv2.MORPH_CLOSE, kernel)\n",
    "\n",
    "contours, _ = cv2.findContours(closed.copy(), cv2.RETR_EXTERNAL, cv2.CHAIN_APPROX_SIMPLE)\n",
    "total = 0\n",
    "\n",
    "contours_xy = np.array(contours)\n",
    "contours_xy.shape\n",
    "\n",
    "# x의 min과 max 찾기\n",
    "x_min, x_max = 0, 0\n",
    "value = list()\n",
    "for i in range(len(contours_xy)):\n",
    "    for j in range(len(contours_xy[i])):\n",
    "        value.append(contours_xy[i][j][0][0])  # 네번째 괄호가 0일때 x의 값\n",
    "        x_min = min(value)\n",
    "        x_max = max(value)\n",
    "\n",
    "# y의 min과 max 찾기\n",
    "y_min, y_max = 0, 0\n",
    "value = list()\n",
    "for i in range(len(contours_xy)):\n",
    "    for j in range(len(contours_xy[i])):\n",
    "        value.append(contours_xy[i][j][0][1])  # 네번째 괄호가 0일때 x의 값\n",
    "        y_min = min(value)\n",
    "        y_max = max(value)\n",
    "\n",
    "# image trim 하기\n",
    "x = x_min\n",
    "y = y_min\n",
    "w = x_max - x_min\n",
    "h = y_max - y_min\n",
    "\n",
    "print(x,y,w,h)\n",
    "\n",
    "img_trim = img[y:y + h, x:x + w]\n",
    "\n",
    "cv.imshow('img_trim',img_trim)\n",
    "cv.imshow('img',img)\n",
    "\n",
    "cv.waitKey(0)\n",
    "cv.destroyAllWindows()\n",
    "    \n",
    "   "
   ]
  },
  {
   "cell_type": "code",
   "execution_count": 5,
   "metadata": {},
   "outputs": [],
   "source": [
    "imgOrg = cv.imread(imgPath,cv.IMREAD_COLOR)\n",
    "imgCopy1 = imgOrg.copy()\n",
    "imgCopy2 = imgOrg.copy()\n",
    "imgCopy3 = imgOrg.copy()\n",
    "imgCopy4 = imgOrg.copy()\n",
    "imgCopy5 = imgOrg.copy()\n",
    "imgGray = cv.cvtColor(imgOrg,cv.COLOR_BGR2GRAY)\n",
    "\n",
    "blur = cv.GaussianBlur(imgGray, ksize=(5,5), sigmaX=4)\n",
    "ret, thresh1 = cv.threshold(blur, 127, 255, cv.THRESH_BINARY)\n",
    "binary = cv.bitwise_not(thresh1)\n",
    "\n",
    "edged = cv.Canny(binary, 10, 200,apertureSize=3)\n",
    "\n",
    "kernel = cv.getStructuringElement(cv.MORPH_RECT, (7, 7))\n",
    "closed = cv.morphologyEx(edged, cv.MORPH_CLOSE, kernel)\n",
    "\n",
    "contours, hierachy= cv.findContours(closed.copy(),cv.RETR_TREE,cv.CHAIN_APPROX_SIMPLE)\n",
    "\n",
    "#contours, hierachy= cv.findContours(binary.copy(),cv.RETR_CCOMP, cv.CHAIN_APPROX_NONE)"
   ]
  },
  {
   "cell_type": "code",
   "execution_count": 6,
   "metadata": {},
   "outputs": [
    {
     "name": "stdout",
     "output_type": "stream",
     "text": [
      "239\n"
     ]
    }
   ],
   "source": [
    "\n",
    "contours_xy = np.array(contours)\n",
    "contours_xy.shape\n",
    "#cv.drawContours(imgOrg,contours,-1,(0,0,255),1)\n",
    "cont = 0\n",
    "for e in contours_xy:\n",
    "    cont = cont + 1\n",
    "    \n",
    "print(cont)"
   ]
  },
  {
   "cell_type": "code",
   "execution_count": 7,
   "metadata": {},
   "outputs": [],
   "source": [
    "cont = cont - 1\n",
    "\n",
    "while (cont != 0):\n",
    "    cont = cont - 1\n",
    "    if(cont % 10 == 0):\n",
    "        cnt = contours_xy[cont]\n",
    "        # 적용하는 숫자가 커질 수록 Point의 갯수는 감소\n",
    "        epsilon1 = 0.01*cv.arcLength(cnt, True)\n",
    "        epsilon2 = 0.05*cv.arcLength(cnt, True)\n",
    "        epsilon3 = 0.1*cv.arcLength(cnt, True)\n",
    "        epsilon4 = 0.15*cv.arcLength(cnt, True)\n",
    "        epsilon5 = 0.2*cv.arcLength(cnt, True)\n",
    "\n",
    "        approx1 = cv.approxPolyDP(cnt, epsilon1, True)\n",
    "        approx2 = cv.approxPolyDP(cnt, epsilon2, True)\n",
    "        approx3 = cv.approxPolyDP(cnt, epsilon3, True)\n",
    "        approx4 = cv.approxPolyDP(cnt, epsilon4, True)\n",
    "        approx5 = cv.approxPolyDP(cnt, epsilon5, True)\n",
    "\n",
    "        cv.drawContours(imgCopy1, [approx1],0,(0,255,0),3) # 215개의 Point\n",
    "        cv.drawContours(imgCopy2, [approx2], 0,(0,255,0), 3) # 21개의 Point\n",
    "        cv.drawContours(imgCopy3, [approx3], 0,(0,255,0), 3) # 4개의 Point\n",
    "        cv.drawContours(imgCopy4, [approx4], 0,(0,255,0), 3) # 21개의 Point\n",
    "        cv.drawContours(imgCopy5, [approx5], 0,(0,255,0), 3) # 4개의 Point\n",
    "\n",
    "        cv.imshow('Original',imgOrg)\n",
    "        cv.imshow('1%',imgCopy1)\n",
    "        cv.imshow('5%',imgCopy2)\n",
    "        cv.imshow('10%',imgCopy3)\n",
    "        cv.imshow('15%',imgCopy4)\n",
    "        cv.imshow('20%',imgCopy5)\n",
    "\n",
    "        cv.waitKey(0)\n",
    "        cv.destroyAllWindows()"
   ]
  },
  {
   "cell_type": "code",
   "execution_count": 17,
   "metadata": {},
   "outputs": [
    {
     "ename": "NameError",
     "evalue": "name 'imgCopy' is not defined",
     "output_type": "error",
     "traceback": [
      "\u001b[1;31m---------------------------------------------------------------------------\u001b[0m",
      "\u001b[1;31mNameError\u001b[0m                                 Traceback (most recent call last)",
      "\u001b[1;32m<ipython-input-17-c3735db31746>\u001b[0m in \u001b[0;36m<module>\u001b[1;34m\u001b[0m\n\u001b[0;32m      5\u001b[0m \u001b[1;33m\u001b[0m\u001b[0m\n\u001b[0;32m      6\u001b[0m \u001b[0mcv\u001b[0m\u001b[1;33m.\u001b[0m\u001b[0mimshow\u001b[0m\u001b[1;33m(\u001b[0m\u001b[1;34m'imgOrg'\u001b[0m\u001b[1;33m,\u001b[0m\u001b[0mimgOrg\u001b[0m\u001b[1;33m)\u001b[0m\u001b[1;33m\u001b[0m\u001b[1;33m\u001b[0m\u001b[0m\n\u001b[1;32m----> 7\u001b[1;33m \u001b[0mcv\u001b[0m\u001b[1;33m.\u001b[0m\u001b[0mimshow\u001b[0m\u001b[1;33m(\u001b[0m\u001b[1;34m'imgCopy'\u001b[0m\u001b[1;33m,\u001b[0m\u001b[0mimgCopy\u001b[0m\u001b[1;33m)\u001b[0m\u001b[1;33m\u001b[0m\u001b[1;33m\u001b[0m\u001b[0m\n\u001b[0m\u001b[0;32m      8\u001b[0m \u001b[1;33m\u001b[0m\u001b[0m\n\u001b[0;32m      9\u001b[0m \u001b[0mcv\u001b[0m\u001b[1;33m.\u001b[0m\u001b[0mwaitKey\u001b[0m\u001b[1;33m(\u001b[0m\u001b[1;36m0\u001b[0m\u001b[1;33m)\u001b[0m\u001b[1;33m\u001b[0m\u001b[1;33m\u001b[0m\u001b[0m\n",
      "\u001b[1;31mNameError\u001b[0m: name 'imgCopy' is not defined"
     ]
    }
   ],
   "source": [
    "\"\"\"\n",
    "cnt = contours[0] # 1이 손모양 주변의 contour\n",
    "hull = cv.convexHull(cnt)\n",
    "\n",
    "cv.drawContours(imgOrg, [hull], 0,(0,255,0), 3)\n",
    "\n",
    "cv.imshow('imgOrg',imgOrg)\n",
    "cv.imshow('imgCopy',imgCopy)\n",
    "\n",
    "cv.waitKey(0)\n",
    "cv.destroyAllWindows()\n",
    "\"\"\""
   ]
  },
  {
   "cell_type": "code",
   "execution_count": 41,
   "metadata": {},
   "outputs": [
    {
     "name": "stdout",
     "output_type": "stream",
     "text": [
      "m00:\t0.00000\n",
      "m10:\t0.00000\n",
      "m01:\t0.00000\n",
      "m20:\t0.00000\n",
      "m11:\t0.00000\n",
      "m02:\t0.00000\n",
      "m30:\t0.00000\n",
      "m21:\t0.00000\n",
      "m12:\t0.00000\n",
      "m03:\t0.00000\n",
      "mu20:\t0.00000\n",
      "mu11:\t0.00000\n",
      "mu02:\t0.00000\n",
      "mu30:\t0.00000\n",
      "mu21:\t0.00000\n",
      "mu12:\t0.00000\n",
      "mu03:\t0.00000\n",
      "nu20:\t0.00000\n",
      "nu11:\t0.00000\n",
      "nu02:\t0.00000\n",
      "nu30:\t0.00000\n",
      "nu21:\t0.00000\n",
      "nu12:\t0.00000\n",
      "nu03:\t0.00000\n"
     ]
    }
   ],
   "source": [
    "\"\"\"\n",
    "for key, val in mmt.items():\n",
    "    print(\"%s:\\t%.5f\" %(key,val))\n",
    "\"\"\""
   ]
  },
  {
   "cell_type": "code",
   "execution_count": 4,
   "metadata": {},
   "outputs": [
    {
     "ename": "AttributeError",
     "evalue": "module 'cv2.cv2' has no attribute 'destrpuAllWindows'",
     "output_type": "error",
     "traceback": [
      "\u001b[1;31m---------------------------------------------------------------------------\u001b[0m",
      "\u001b[1;31mAttributeError\u001b[0m                            Traceback (most recent call last)",
      "\u001b[1;32m<ipython-input-4-415148d928e9>\u001b[0m in \u001b[0;36m<module>\u001b[1;34m\u001b[0m\n\u001b[1;32m----> 1\u001b[1;33m \u001b[0mcontour\u001b[0m\u001b[1;33m(\u001b[0m\u001b[0mimg\u001b[0m\u001b[1;33m)\u001b[0m\u001b[1;33m\u001b[0m\u001b[1;33m\u001b[0m\u001b[0m\n\u001b[0m",
      "\u001b[1;32m<ipython-input-3-41a399a09aa8>\u001b[0m in \u001b[0;36mcontour\u001b[1;34m(path)\u001b[0m\n\u001b[0;32m     12\u001b[0m \u001b[1;33m\u001b[0m\u001b[0m\n\u001b[0;32m     13\u001b[0m     \u001b[0mcv\u001b[0m\u001b[1;33m.\u001b[0m\u001b[0mwaitKey\u001b[0m\u001b[1;33m(\u001b[0m\u001b[1;36m0\u001b[0m\u001b[1;33m)\u001b[0m\u001b[1;33m\u001b[0m\u001b[1;33m\u001b[0m\u001b[0m\n\u001b[1;32m---> 14\u001b[1;33m     \u001b[0mcv\u001b[0m\u001b[1;33m.\u001b[0m\u001b[0mdestrpuAllWindows\u001b[0m\u001b[1;33m(\u001b[0m\u001b[1;33m)\u001b[0m\u001b[1;33m\u001b[0m\u001b[1;33m\u001b[0m\u001b[0m\n\u001b[0m\u001b[0;32m     15\u001b[0m \u001b[1;33m\u001b[0m\u001b[0m\n",
      "\u001b[1;31mAttributeError\u001b[0m: module 'cv2.cv2' has no attribute 'destrpuAllWindows'"
     ]
    }
   ],
   "source": [
    "\"\"\"\n",
    "cv.imshow('thresh',thr)\n",
    "cv.imshow('contour',imgOrg)\n",
    "\n",
    "cv.waitKey(0)\n",
    "cv.destroyAllWindows()\n",
    "\"\"\""
   ]
  },
  {
   "cell_type": "code",
   "execution_count": null,
   "metadata": {},
   "outputs": [],
   "source": []
  }
 ],
 "metadata": {
  "kernelspec": {
   "display_name": "Python 3",
   "language": "python",
   "name": "python3"
  },
  "language_info": {
   "codemirror_mode": {
    "name": "ipython",
    "version": 3
   },
   "file_extension": ".py",
   "mimetype": "text/x-python",
   "name": "python",
   "nbconvert_exporter": "python",
   "pygments_lexer": "ipython3",
   "version": "3.7.5"
  }
 },
 "nbformat": 4,
 "nbformat_minor": 2
}
