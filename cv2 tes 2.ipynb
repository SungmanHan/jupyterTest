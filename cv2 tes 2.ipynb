{
 "cells": [
  {
   "cell_type": "code",
   "execution_count": 2,
   "metadata": {},
   "outputs": [
    {
     "data": {
      "text/plain": [
       "-1"
      ]
     },
     "execution_count": 2,
     "metadata": {},
     "output_type": "execute_result"
    }
   ],
   "source": [
    "import cv2\n",
    "import numpy as np\n",
    "\n",
    "imgPath = \"C:/Users/gridone/Desktop/imagesdata/test_2.png\"\n",
    "\n",
    "im = cv2.imread(imgPath)\n",
    "\n",
    "gray=cv2.cvtColor(im,cv2.COLOR_BGR2GRAY)\n",
    "\n",
    "ret,thresh = cv2.threshold(gray,127,255,0)\n",
    "\n",
    "contours,_ = cv2.findContours(thresh,cv2.RETR_LIST,cv2.CHAIN_APPROX_SIMPLE)\n",
    "\n",
    "areas = [cv2.contourArea(c) for c in contours]\n",
    "\n",
    "max_index = np.argmax(areas)\n",
    "\n",
    "cnt=contours[max_index]\n",
    "\n",
    "x,y,w,h = cv2.boundingRect(cnt)\n",
    "\n",
    "cv2.rectangle(im,(x,y),(x+w,y+h),(0,255,0),2)\n",
    "\n",
    "cv2.imshow(\"Show\",im)\n",
    "\n",
    "cv2.imwrite(\"images/img5_rect.jpg\", im)\n",
    "\n",
    "cv2.waitKey(0)"
   ]
  },
  {
   "cell_type": "code",
   "execution_count": null,
   "metadata": {},
   "outputs": [],
   "source": []
  }
 ],
 "metadata": {
  "kernelspec": {
   "display_name": "Python 3",
   "language": "python",
   "name": "python3"
  },
  "language_info": {
   "codemirror_mode": {
    "name": "ipython",
    "version": 3
   },
   "file_extension": ".py",
   "mimetype": "text/x-python",
   "name": "python",
   "nbconvert_exporter": "python",
   "pygments_lexer": "ipython3",
   "version": "3.7.5"
  }
 },
 "nbformat": 4,
 "nbformat_minor": 2
}
